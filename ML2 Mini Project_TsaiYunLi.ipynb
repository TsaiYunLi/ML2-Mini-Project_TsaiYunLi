{
 "cells": [
  {
   "cell_type": "markdown",
   "metadata": {},
   "source": [
    "### DTSA 5510 Unsupervised Algorithms in Machine Learning - Mini Project <br>\n",
    "\n",
    "Project Title: BBC News Category Prediction: Unsupervised vs. Supervised Approaches<br>\n",
    "Date: 2023 Oct 17 <br>\n",
    "Author: Tsai-Yun Li <br>\n",
    "Course Lecturer: Geena Kim <br>\n",
    "Orginzation: University of Colorado Boulder <br>\n",
    "Kaggle Competition Name: BBC News Classification - News Articles Categorization <br>\n",
    "GitHub Repository Link: https://github.com/TsaiYunLi/ML2-Mini-Project_TsaiYunLi"
   ]
  },
  {
   "cell_type": "markdown",
   "metadata": {},
   "source": [
    "## Table of Contents\n",
    "- [1. Unsupervised vs. Supervised Learning Problem Description](#unsupervised-vs-supervised-learning-problem-description)\n",
    "- [2. Data Description](#data-description)\n",
    "- [3. Exploratory Data Analysis (EDA)](#exploratory-data-analysis-eda)\n",
    "  - [3.1 Basic EDA: Inspecting Features of the Dataframe](#3.1-basic-eda-inspecting-features)\n",
    "  - [3.2 Basic EDA: Inspecting the Raw News Article Text](#3.2-basic-eda-inspecting-raw-text)\n",
    "  - [3.3 Basic EDA: Basic Transformations of the News Article Texts](#3.3-basic-eda-transformations)\n",
    "  - [3.4 More EDA: NLP Transformations of the News Article Texts](#3.4-more-eda-nlp-transformations)\n",
    "- [4. Unsupervised Model Building, Training: None-negative Matrix Factorization (NMF)](#unsupervised-model-building-nmf)\n",
    "- [5. Supervised Model Building and Training: Logistic Regression (LR)](#supervised-model-building-lr)\n",
    "- [6. Model Evaluation and Comparison](#model-evaluation-and-comparison)\n",
    "  - [6.1 Evaluation of the Unsupervised Approach: Hybrid Model TFIDF_NMF_LR](#6.1-evaluation-of-the-unsupervised-approach-hybrid-model-tfidf_nmf_lr)\n",
    "  - [6.2 Evaluation of the Supervised Approach: Hybrid Model TFIDF_LR](#6.2-evaluation-of-the-supervised-approach-hybrid-model-tfidf_lr)\n",
    "- [7. Discussion and Conclusion](#discussion-and-conclusion)\n",
    "- [8. Refernces](#references)\n"
   ]
  },
  {
   "cell_type": "markdown",
   "metadata": {},
   "source": [
    "### 1. Unsupervised vs. Supervised Learning Problem Description\n",
    "<a id=\"unsupervised-vs-supervised-learning-problem-description\"></a>\n",
    "This is a project for the course \"DTSA 5510 Unsupervised Algorithms in Machine Learning.\" In this project I will predict BBC news article categories using Kaggle datasets (see section 8 for reference) through machine learning techniques, including:\n",
    "1. TFIDF_NMF_LR model: a combination of (1) a natural language processing vectorizer, term frequency–inverse document frequency (TF-IDF), (2) an unsupervised dimension reduction approach, none-negative matrix factorization (NMF), as required, and (3) a supervised classifier, logistic regression (LR) <br>\n",
    "\n",
    "Note that I did not use an unsupervised classifier here, because it is not guaranteed to group the articles into the predefined news categories. It could group them by other latent features. Besides, it might not produce interpretable lables. In other words, a supervised classifier can map the news articles in the test dataset to the predefined categories passed into the model during its training phase, which is the main task of this project. While, The selection of LR as the supervised classifier, is merely for its simplicity, to save computer resources, and to cut the run time of the model.<br>\n",
    "\n",
    "2. TFIDF_LR model: a combination of (1) a natural language processing vectorizer, term frequency–inverse document frequency (TF-IDF), and (2) a supervised classifier, logistic regression (LR)\n",
    "\n",
    "Since the NMF model is combined with an LR classifier, it is logical to build an LR model here for a comparison of model performance in later sections. While, the choice of TF-IDF vectorizer for the news article text is actually decided after doing the exploratory data analysis (see section 3 and 4).<br> \n",
    "\n",
    "I will compare the performance of these two models, one with and one without NMF, using both quantitative and qualitative evaluation metrics (see section 6):\n",
    "1. Since there is no prelabled categories in the provided test dataset, quantitative evaluation can only be done for prediction using the provided training dataset, including metrics such as precision, recall, F1-score, missclassification instances, confusion matrix for each category, as well as the overall accuracy.\n",
    "\n",
    "2. For the same reason, prediction using the test dataset can only be evaluated with qualitative evaluation metrics. I will inspect the content of two random news articles from the test dataset, and see if its content does match its predicted categories.\n",
    "\n",
    "Please see the following section for details of the datasets."
   ]
  },
  {
   "cell_type": "markdown",
   "metadata": {},
   "source": [
    "### 2. Data Description\n",
    "<a id='2-data-description'></a>\n",
    "As mentioned above, the datasets used in this project are from Kaggle (see section 8 for reference), including a training dataset 'BBC News Train.csv,' named as BBCtrain_data here, with 1490 rows and 3 columns, and a test dataset 'BBC News Test.csv,' named as BBCtest_data here, with 735 rows and 2 columns. Each row is an instance of BBC news article. The training set has columns 'ArticleID,' 'Text,' and 'Category'. While, the test set only has columns \"ArticleID,\" and \"Text.\" <br>\n",
    "\n",
    "Column name and value:\n",
    "1. ArticleId: a unique id for each BBC news article\n",
    "2. Article: the raw text of each BBC news article, header included\n",
    "3. Category: the cateogry of each BBC news article based on its content's topic, which could be 'tech', 'business', 'sport', 'entertainment', or 'politics'\n",
    "\n",
    "In this section, I will inspect the datasets' basic features introduced above."
   ]
  },
  {
   "cell_type": "code",
   "execution_count": 1,
   "metadata": {},
   "outputs": [],
   "source": [
    "#importing and loading the datasets downloaded from Kaggle\n",
    "import pandas as pd\n",
    "\n",
    "BBCtrain_data = pd.read_csv('https://raw.githubusercontent.com/TsaiYunLi/ML2-Mini-Project_TsaiYunLi/main/Kaggle_BBC%20News_Train.csv')\n",
    "BBCtest_data = pd.read_csv('https://raw.githubusercontent.com/TsaiYunLi/ML2-Mini-Project_TsaiYunLi/main/Kaggle_BBC%20News_Test.csv')"
   ]
  },
  {
   "cell_type": "code",
   "execution_count": 2,
   "metadata": {},
   "outputs": [
    {
     "name": "stdout",
     "output_type": "stream",
     "text": [
      "BBCtrain_data shape = (1490, 3)\n",
      "BBCtrain_data head:\n"
     ]
    },
    {
     "data": {
      "text/html": [
       "<div>\n",
       "<style scoped>\n",
       "    .dataframe tbody tr th:only-of-type {\n",
       "        vertical-align: middle;\n",
       "    }\n",
       "\n",
       "    .dataframe tbody tr th {\n",
       "        vertical-align: top;\n",
       "    }\n",
       "\n",
       "    .dataframe thead th {\n",
       "        text-align: right;\n",
       "    }\n",
       "</style>\n",
       "<table border=\"1\" class=\"dataframe\">\n",
       "  <thead>\n",
       "    <tr style=\"text-align: right;\">\n",
       "      <th></th>\n",
       "      <th>ArticleId</th>\n",
       "      <th>Text</th>\n",
       "      <th>Category</th>\n",
       "    </tr>\n",
       "  </thead>\n",
       "  <tbody>\n",
       "    <tr>\n",
       "      <th>0</th>\n",
       "      <td>1833</td>\n",
       "      <td>worldcom ex-boss launches defence lawyers defe...</td>\n",
       "      <td>business</td>\n",
       "    </tr>\n",
       "    <tr>\n",
       "      <th>1</th>\n",
       "      <td>154</td>\n",
       "      <td>german business confidence slides german busin...</td>\n",
       "      <td>business</td>\n",
       "    </tr>\n",
       "    <tr>\n",
       "      <th>2</th>\n",
       "      <td>1101</td>\n",
       "      <td>bbc poll indicates economic gloom citizens in ...</td>\n",
       "      <td>business</td>\n",
       "    </tr>\n",
       "    <tr>\n",
       "      <th>3</th>\n",
       "      <td>1976</td>\n",
       "      <td>lifestyle  governs mobile choice  faster  bett...</td>\n",
       "      <td>tech</td>\n",
       "    </tr>\n",
       "    <tr>\n",
       "      <th>4</th>\n",
       "      <td>917</td>\n",
       "      <td>enron bosses in $168m payout eighteen former e...</td>\n",
       "      <td>business</td>\n",
       "    </tr>\n",
       "  </tbody>\n",
       "</table>\n",
       "</div>"
      ],
      "text/plain": [
       "   ArticleId                                               Text  Category\n",
       "0       1833  worldcom ex-boss launches defence lawyers defe...  business\n",
       "1        154  german business confidence slides german busin...  business\n",
       "2       1101  bbc poll indicates economic gloom citizens in ...  business\n",
       "3       1976  lifestyle  governs mobile choice  faster  bett...      tech\n",
       "4        917  enron bosses in $168m payout eighteen former e...  business"
      ]
     },
     "execution_count": 2,
     "metadata": {},
     "output_type": "execute_result"
    }
   ],
   "source": [
    "print('BBCtrain_data shape =', BBCtrain_data.shape)\n",
    "print('BBCtrain_data head:')\n",
    "BBCtrain_data.head()"
   ]
  },
  {
   "cell_type": "code",
   "execution_count": 3,
   "metadata": {},
   "outputs": [
    {
     "name": "stdout",
     "output_type": "stream",
     "text": [
      "There are these unique categories in BBCtrain_data: sport            346\n",
      "business         336\n",
      "politics         274\n",
      "entertainment    273\n",
      "tech             261\n",
      "Name: Category, dtype: int64\n"
     ]
    }
   ],
   "source": [
    "unique_categories = BBCtrain_data['Category'].value_counts()\n",
    "print(\"There are these unique categories in BBCtrain_data:\", unique_categories)"
   ]
  },
  {
   "cell_type": "code",
   "execution_count": 4,
   "metadata": {},
   "outputs": [
    {
     "name": "stdout",
     "output_type": "stream",
     "text": [
      "BBCtest_data shape = (735, 2)\n",
      "BBCtest_data head:\n"
     ]
    },
    {
     "data": {
      "text/html": [
       "<div>\n",
       "<style scoped>\n",
       "    .dataframe tbody tr th:only-of-type {\n",
       "        vertical-align: middle;\n",
       "    }\n",
       "\n",
       "    .dataframe tbody tr th {\n",
       "        vertical-align: top;\n",
       "    }\n",
       "\n",
       "    .dataframe thead th {\n",
       "        text-align: right;\n",
       "    }\n",
       "</style>\n",
       "<table border=\"1\" class=\"dataframe\">\n",
       "  <thead>\n",
       "    <tr style=\"text-align: right;\">\n",
       "      <th></th>\n",
       "      <th>ArticleId</th>\n",
       "      <th>Text</th>\n",
       "    </tr>\n",
       "  </thead>\n",
       "  <tbody>\n",
       "    <tr>\n",
       "      <th>0</th>\n",
       "      <td>1018</td>\n",
       "      <td>qpr keeper day heads for preston queens park r...</td>\n",
       "    </tr>\n",
       "    <tr>\n",
       "      <th>1</th>\n",
       "      <td>1319</td>\n",
       "      <td>software watching while you work software that...</td>\n",
       "    </tr>\n",
       "    <tr>\n",
       "      <th>2</th>\n",
       "      <td>1138</td>\n",
       "      <td>d arcy injury adds to ireland woe gordon d arc...</td>\n",
       "    </tr>\n",
       "    <tr>\n",
       "      <th>3</th>\n",
       "      <td>459</td>\n",
       "      <td>india s reliance family feud heats up the ongo...</td>\n",
       "    </tr>\n",
       "    <tr>\n",
       "      <th>4</th>\n",
       "      <td>1020</td>\n",
       "      <td>boro suffer morrison injury blow middlesbrough...</td>\n",
       "    </tr>\n",
       "  </tbody>\n",
       "</table>\n",
       "</div>"
      ],
      "text/plain": [
       "   ArticleId                                               Text\n",
       "0       1018  qpr keeper day heads for preston queens park r...\n",
       "1       1319  software watching while you work software that...\n",
       "2       1138  d arcy injury adds to ireland woe gordon d arc...\n",
       "3        459  india s reliance family feud heats up the ongo...\n",
       "4       1020  boro suffer morrison injury blow middlesbrough..."
      ]
     },
     "execution_count": 4,
     "metadata": {},
     "output_type": "execute_result"
    }
   ],
   "source": [
    "print('BBCtest_data shape =', BBCtest_data.shape)\n",
    "print('BBCtest_data head:')\n",
    "BBCtest_data.head()"
   ]
  },
  {
   "cell_type": "markdown",
   "metadata": {},
   "source": [
    "### 3.  Exploratory Data Analysis (EDA): Data Inspection, Visualization, Cleaning, and Transformation\n",
    "<a id='3-exploratory-data-analysis-eda'></a>\n",
    " \n",
    "In this section, I will perform an exploratory data analysis on the datasets BBCtrain_data and BBCtest_data, including further inspection on the datasets, visualizations of their features. Most importantly, I will prepare the datasets for model-training in later sections by doing some data cleaning and data transformation. <br>\n",
    "\n",
    "There are four subsections in this section, from basic to more advanced EDA: <br>\n",
    "3.1 Basic EDA: Inspecting Features of the Dataframe <br>\n",
    "3.2 Basic EDA: Inspecting the Raw News Article Text <br>\n",
    "3.3 Basic EDA: Basic Transformations of the News Article Texts <br>\n",
    "3.4 More EDA: NLP Transformations of the News Article Texts <br>\n",
    "\n",
    "A short summary will be provided at the end of each subsection."
   ]
  },
  {
   "cell_type": "markdown",
   "metadata": {},
   "source": [
    "##### 3.1 Basic EDA: Inpecting Features of the Dataframe\n",
    "<a id='31-basic-eda-inspecting-features-of-the-dataframe'></a>"
   ]
  },
  {
   "cell_type": "code",
   "execution_count": 5,
   "metadata": {},
   "outputs": [
    {
     "name": "stdout",
     "output_type": "stream",
     "text": [
      "checking for null values and data type in BBCtrain_data:\n",
      "<class 'pandas.core.frame.DataFrame'>\n",
      "RangeIndex: 1490 entries, 0 to 1489\n",
      "Data columns (total 3 columns):\n",
      " #   Column     Non-Null Count  Dtype \n",
      "---  ------     --------------  ----- \n",
      " 0   ArticleId  1490 non-null   int64 \n",
      " 1   Text       1490 non-null   object\n",
      " 2   Category   1490 non-null   object\n",
      "dtypes: int64(1), object(2)\n",
      "memory usage: 35.0+ KB\n"
     ]
    }
   ],
   "source": [
    "# checking for null values and data type in BBCtrain_data\n",
    "print(\"checking for null values and data type in BBCtrain_data:\")\n",
    "BBCtrain_data.info()"
   ]
  },
  {
   "cell_type": "code",
   "execution_count": 6,
   "metadata": {},
   "outputs": [
    {
     "name": "stdout",
     "output_type": "stream",
     "text": [
      "checking for null values and data type in BBCtest_data:\n",
      "<class 'pandas.core.frame.DataFrame'>\n",
      "RangeIndex: 735 entries, 0 to 734\n",
      "Data columns (total 2 columns):\n",
      " #   Column     Non-Null Count  Dtype \n",
      "---  ------     --------------  ----- \n",
      " 0   ArticleId  735 non-null    int64 \n",
      " 1   Text       735 non-null    object\n",
      "dtypes: int64(1), object(1)\n",
      "memory usage: 11.6+ KB\n"
     ]
    }
   ],
   "source": [
    "# checking for null values and data type in BBCtest_data\n",
    "print(\"checking for null values and data type in BBCtest_data:\")\n",
    "BBCtest_data.info()"
   ]
  },
  {
   "cell_type": "code",
   "execution_count": 7,
   "metadata": {},
   "outputs": [
    {
     "name": "stdout",
     "output_type": "stream",
     "text": [
      "number of duplicated rows in BBCtrain_data: 0\n"
     ]
    }
   ],
   "source": [
    "# checking for duplicated rows in BBCtrain_data\n",
    "train_duplicates = BBCtrain_data.duplicated().sum()\n",
    "print(\"number of duplicated rows in BBCtrain_data:\", train_duplicates)"
   ]
  },
  {
   "cell_type": "code",
   "execution_count": 8,
   "metadata": {},
   "outputs": [
    {
     "name": "stdout",
     "output_type": "stream",
     "text": [
      "number of duplicated rows in BBCtest_data: 0\n"
     ]
    }
   ],
   "source": [
    "# checking for duplicated rows in BBCtest_data\n",
    "test_duplicates = BBCtest_data.duplicated().sum()\n",
    "print(\"number of duplicated rows in BBCtest_data:\", test_duplicates)"
   ]
  },
  {
   "cell_type": "code",
   "execution_count": 9,
   "metadata": {},
   "outputs": [
    {
     "data": {
      "image/png": "[encoded data removed]",
      "text/plain": [
       "<Figure size 432x288 with 1 Axes>"
      ]
     },
     "metadata": {
      "needs_background": "light"
     },
     "output_type": "display_data"
    }
   ],
   "source": [
    "# visualizing the distribution of news article categories in BBCtrain_data\n",
    "import matplotlib.pyplot as plt\n",
    "train_category_counts = BBCtrain_data['Category'].value_counts()\n",
    "hitogram_bars = plt.bar(train_category_counts.index, train_category_counts.values, color='skyblue')\n",
    "plt.xlabel('Category')\n",
    "plt.ylabel('Count')\n",
    "plt.title('Distribution of Categories in BBCtrain_data')\n",
    "\n",
    "for hitogram_bar in hitogram_bars:\n",
    "    yval = hitogram_bar.get_height()\n",
    "    plt.text(hitogram_bar.get_x() + hitogram_bar.get_width()/2, yval + 0.05, round(yval, 2), va='bottom', ha='center')\n",
    "    \n",
    "plt.show()"
   ]
  },
  {
   "cell_type": "code",
   "execution_count": 10,
   "metadata": {},
   "outputs": [
    {
     "name": "stdout",
     "output_type": "stream",
     "text": [
      "Mean count of articles per category in BBCtrain_data: 298.0\n",
      "Standard deviation of article counts per category in BBCtrain_data: 40.0\n"
     ]
    }
   ],
   "source": [
    "# checking if BBCtrain_data has a rather balanced mix of categories\n",
    "train_category_mean = train_category_counts.mean()\n",
    "train_category_std = round(train_category_counts.std(), 0)\n",
    "\n",
    "print(\"Mean count of articles per category in BBCtrain_data:\", train_category_mean)\n",
    "print(\"Standard deviation of article counts per category in BBCtrain_data:\", train_category_std)"
   ]
  },
  {
   "cell_type": "markdown",
   "metadata": {},
   "source": [
    "##### Summary for Section 3.1:\n",
    "1. There is neither null nor duplicated data in BBCtrain_data and BBCtest_data. \n",
    "2. Due to the purpose of this project, there is no need to do statistical analysis on column 'ArticleId' and 'Text' in BBCtrain_data or BBCtest_data. \n",
    "3. The distribution of 'Category' in BBCtrain_data is pretty balanced, with an average of 298 +- standard deviation 40 articles per category. The number of articles per category in BBCtrain_data is: 346 'sprot,' 336 'business,' 274 'politics,' 273 'entertainment,' and 261' tech.'"
   ]
  },
  {
   "cell_type": "markdown",
   "metadata": {},
   "source": [
    "##### 3.2 Basic EDA: Inspecting the Raw News Article Text\n",
    "<a id='32-basic-eda-inspecting-the-raw-news-article-text'></a>"
   ]
  },
  {
   "cell_type": "code",
   "execution_count": 11,
   "metadata": {},
   "outputs": [
    {
     "name": "stdout",
     "output_type": "stream",
     "text": [
      "wal-mart is sued over rude lyrics the parents of a 13-year-old girl are suing us supermarket giant wal-mart over a cd by rock group evanescence that contains swear words.  the lawsuit  filed in washington county  alleges wal-mart deceived customers by not putting warning labels on the cover. trevin skeens alleges wal-mart knew of the offending word because it had censored it on its music sales website. wal-mart said it was investigating the claims but had no plans to pull the cd. wal-mart has a policy of not stocking cds which carry parental advisory labels. mr skeens said he bought the anywhere but home cd for his daughter and was shocked to hear the swearing when it was played in their car.   i don t want any other families to get this  expecting it to be clean. it needs to be removed from the shelves to prevent other children from hearing it   said mr skeens of brownsville. the lawsuit seeks to force wal-mart to censor the music or remove it from its stores in maryland. it also seeks damages of up to $74 500 (£38 660) for every customer who bought the cd at maryland wal-marts  and also naming record label wind-up records and distributor bmg entertainment in the legal action.  while wal-mart sets high standards  it would not be possible to eliminate every image  word or topic that an individual might find objectionable   wal-mart spokesman guy whitcomb told the herald-mail of hagerstown.\n"
     ]
    }
   ],
   "source": [
    "# inspecting the raw text from a random row in BBCtrain_data \n",
    "train_rand_row = BBCtrain_data.sample(n=1, random_state=42)\n",
    "print(train_rand_row['Text'].values[0])"
   ]
  },
  {
   "cell_type": "code",
   "execution_count": 12,
   "metadata": {},
   "outputs": [
    {
     "name": "stdout",
     "output_type": "stream",
     "text": [
      "golden rule  intact  says ex-aide chancellor gordon brown will meet his golden economic rule  with a margin to spare   according to his former chief economic adviser.  formerly one of mr brown s closest treasury aides  ed balls hinted at a budget giveaway on 16 march. he said he hoped more would be done to build on current tax credit rules. any rate rise ahead of an expected may election would not affect the labour party s chances of winning  he added. last july  mr balls won the right to step down from his treasury position and run for parliament  defending the labour stronghold of normanton in west yorkshire.  mr balls rejected the allegation that mr brown had been sidelined in the election campaign  saying he was playing a  different  role to the one he played in the last two elections. he rejected speculation that mr brown was considering becoming foreign secretary  saying his recent travels had been linked to efforts to boost international development. gordon brown s decision to announce the date of the budget while on a trip to china was a  sensible thing to do   since he was talking about skills and investment at the time  mr balls told the bbc. commenting on speculation of an interest rate rise  he said it was not within the remit of the bank of england s monetary policy committee (mpc) to factor a potential election into its rate decisions. expectations of a rate rise have gathered pace after figures showed that house prices are still rising. consumer borrowing rose at a near-record pace in january.  i don t believe it would be a big election issue in britain or a problem for labour   mr balls said. prime minister tony blair has yet to name the date of the election  but most pundits are betting on 5 may as the likely day.\n"
     ]
    }
   ],
   "source": [
    "# inspecting the raw text from a random row in BBCtest_data \n",
    "test_rand_row = BBCtest_data.sample(n=1, random_state=42)\n",
    "print(test_rand_row['Text'].values[0])"
   ]
  },
  {
   "cell_type": "code",
   "execution_count": 13,
   "metadata": {},
   "outputs": [
    {
     "name": "stdout",
     "output_type": "stream",
     "text": [
      "raw text average word count in BBCtrain_data: 385.01275167785235\n",
      "raw text max word count in BBCtrain_data: 3345\n",
      "raw text min word count in BBCtrain_data: 90 \n",
      "\n",
      "raw text average word count in BBCtest_data: 401.0040816326531\n",
      "raw text max word count in BBCtest_data: 4492\n",
      "raw text min word count in BBCtest_data: 126\n"
     ]
    }
   ],
   "source": [
    "# computing average, max, min word count for the raw texts in BBCtrain_data \n",
    "BBCtrain_raw_avg = BBCtrain_data['Text'].apply(lambda x: len(str(x).split())).mean()\n",
    "BBCtrain_raw_max = BBCtrain_data['Text'].apply(lambda x: len(str(x).split())).max()\n",
    "BBCtrain_raw_min = BBCtrain_data['Text'].apply(lambda x: len(str(x).split())).min()\n",
    "print(\"raw text average word count in BBCtrain_data:\", BBCtrain_raw_avg)\n",
    "print(\"raw text max word count in BBCtrain_data:\", BBCtrain_raw_max)\n",
    "print(\"raw text min word count in BBCtrain_data:\", BBCtrain_raw_min, \"\\n\")\n",
    "\n",
    "# computing average, max, min word count for the raw texts in BBCtest_data \n",
    "BBCtest_raw_avg = BBCtest_data['Text'].apply(lambda x: len(str(x).split())).mean()\n",
    "BBCtest_raw_max = BBCtest_data['Text'].apply(lambda x: len(str(x).split())).max()\n",
    "BBCtest_raw_min = BBCtest_data['Text'].apply(lambda x: len(str(x).split())).min()\n",
    "print(\"raw text average word count in BBCtest_data:\", BBCtest_raw_avg)\n",
    "print(\"raw text max word count in BBCtest_data:\", BBCtest_raw_max)\n",
    "print(\"raw text min word count in BBCtest_data:\", BBCtest_raw_min)"
   ]
  },
  {
   "cell_type": "code",
   "execution_count": 14,
   "metadata": {},
   "outputs": [
    {
     "data": {
      "image/png": "[encoded data removed]",
      "text/plain": [
       "<Figure size 432x288 with 1 Axes>"
      ]
     },
     "metadata": {
      "needs_background": "light"
     },
     "output_type": "display_data"
    }
   ],
   "source": [
    "# visualizing the word count distribution for the raw texts in BBCtrain_data\n",
    "BBCtrain_cleaned_word_count = BBCtrain_data['Text'].apply(lambda x: len(str(x).split()))\n",
    "plt.hist(BBCtrain_cleaned_word_count, bins = 50, edgecolor='k')\n",
    "plt.title('Distribution of Cleaned Text Word Count in BBCtrain_data')\n",
    "plt.xlabel('Word Count')\n",
    "plt.ylabel('Frequency')\n",
    "plt.show()"
   ]
  },
  {
   "cell_type": "code",
   "execution_count": 15,
   "metadata": {},
   "outputs": [
    {
     "data": {
      "image/png": "[encoded data removed]",
      "text/plain": [
       "<Figure size 432x288 with 1 Axes>"
      ]
     },
     "metadata": {
      "needs_background": "light"
     },
     "output_type": "display_data"
    }
   ],
   "source": [
    "# visualizing the word count distribution for the raw texts in BBCtest_data\n",
    "BBCtest_cleaned_word_count = BBCtest_data['Text'].apply(lambda x: len(str(x).split()))\n",
    "plt.hist(BBCtest_cleaned_word_count, bins = 50, edgecolor='k')\n",
    "plt.title('Distribution of Cleaned Text Word Count in BBCtest_data')\n",
    "plt.xlabel('Word Count')\n",
    "plt.ylabel('Frequency')\n",
    "plt.show()"
   ]
  },
  {
   "cell_type": "markdown",
   "metadata": {},
   "source": [
    "##### Summary for Section 3.2:\n",
    "1. The raw news articles texts are in natural English language paragraphs that consists of uncapitalized sentences, with punctuations, numbers, and extra leading/trailing spaces, which will be removed in the next section.\n",
    "2. The raw news articles texts in BBCtrain_data have an average word count of about 385. The longest one has 3345 words, and the shortest one 90 words.  \n",
    "3. The raw news articles texts in BBCtest_data have an average word count of about 401. The longest one has 4492 words, and the shortest one 126 words.\n",
    "4. The statistical features in points 2 and 3 are visualized in histograms.\n",
    "5. The outlier texts, the very long and very short ones, do not need to be removed, because they are legit, published news articles, which should not include inconsistant or irrelavent content."
   ]
  },
  {
   "cell_type": "markdown",
   "metadata": {},
   "source": [
    "##### 3.3 Basic EDA: Basic Transformations of the News Article Texts\n",
    "<a id='33-basic-eda-basic-transformations-of-the-news-article-texts'></a>"
   ]
  },
  {
   "cell_type": "code",
   "execution_count": 16,
   "metadata": {},
   "outputs": [],
   "source": [
    "# creating a new column \"Train_Text_Cleaned\" with the same values as in \"Text\" in BBCtrain_data\n",
    "# prepared for doing some nlp preprocessing later\n",
    "BBCtrain_data['Train_Text_Cleaned'] = BBCtrain_data['Text']\n",
    "\n",
    "# creating a new column \"Test_Text_Cleaned\" with the same values as in \"Text\" in BBCtest_data\n",
    "# prepared for doing some nlp preprocessing later\n",
    "BBCtest_data['Test_Text_Cleaned'] = BBCtest_data['Text']"
   ]
  },
  {
   "cell_type": "code",
   "execution_count": 17,
   "metadata": {},
   "outputs": [],
   "source": [
    "## removing punctuations\n",
    "# removing punctuations from \"Train_Text_Cleaned\" in BBCtrain_data\n",
    "BBCtrain_data['Train_Text_Cleaned'] = BBCtrain_data['Train_Text_Cleaned'].str.replace(r'[^\\w\\s]', '', regex=True)\n",
    "\n",
    "# remove punctuations from \"Test_Text_Cleaned\" in BBCtest_data\n",
    "BBCtest_data['Test_Text_Cleaned'] = BBCtest_data['Test_Text_Cleaned'].str.replace(r'[^\\w\\s]', '', regex=True)"
   ]
  },
  {
   "cell_type": "code",
   "execution_count": 18,
   "metadata": {},
   "outputs": [],
   "source": [
    "## removing numbers\n",
    "# removing numbers from \"Train_Text_Cleaned\" in BBCtrain_data\n",
    "BBCtrain_data['Train_Text_Cleaned'] = BBCtrain_data['Train_Text_Cleaned'].str.replace(r'\\d+', '', regex=True)\n",
    "\n",
    "# removing numbers from \"Test_Text_Cleaned\" in BBCtest_data\n",
    "BBCtest_data['Test_Text_Cleaned'] = BBCtest_data['Test_Text_Cleaned'].str.replace(r'\\d+', '', regex=True)"
   ]
  },
  {
   "cell_type": "code",
   "execution_count": 19,
   "metadata": {},
   "outputs": [],
   "source": [
    "## removing extra leading/trailing spaces\n",
    "# removing extra leading/trailing spaces from \"Train_Text_Cleaned\" in BBCtrain_data\n",
    "BBCtrain_data['Train_Text_Cleaned'] = BBCtrain_data['Train_Text_Cleaned'].str.replace(r'\\s+', ' ', regex=True).str.strip()\n",
    "\n",
    "\n",
    "# removing extra leading/trailing spaces from \"Test_Text_Cleaned\" in BBCtest_data\n",
    "BBCtest_data['Test_Text_Cleaned'] = BBCtest_data['Test_Text_Cleaned'].str.replace(r'\\s+', ' ', regex=True).str.strip()"
   ]
  },
  {
   "cell_type": "markdown",
   "metadata": {},
   "source": [
    "##### Summary for Section 3.3:\n",
    "1. The original news article texts are left untouched in column \"Text.\"\n",
    "2. Punctuations, numbers, and extra leading/trailing spaces are removed from the news article texts in both BBCtrain_data and BBCtest_data, and stored in new columns \"Train_Text_Cleaned\" and \"Test_TExt_Cleaned,\" in the respective datasets."
   ]
  },
  {
   "cell_type": "markdown",
   "metadata": {},
   "source": [
    "##### 3.4 More EDA: NLP Transformations of the News Article Texts\n",
    "<a id='34-more-eda-nlp-transformations-of-the-news-article-texts'></a>"
   ]
  },
  {
   "cell_type": "code",
   "execution_count": 20,
   "metadata": {},
   "outputs": [
    {
     "name": "stdout",
     "output_type": "stream",
     "text": [
      "Collecting nltk\n",
      "  Downloading nltk-3.8.1-py3-none-any.whl (1.5 MB)\n",
      "\u001b[2K     \u001b[90m━━━━━━━━━━━━━━━━━━━━━━━━━━━━━━━━━━━━━━━━\u001b[0m \u001b[32m1.5/1.5 MB\u001b[0m \u001b[31m109.3 MB/s\u001b[0m eta \u001b[36m0:00:00\u001b[0m\n",
      "\u001b[?25hRequirement already satisfied: tqdm in /opt/conda/lib/python3.7/site-packages (from nltk) (4.45.0)\n",
      "Requirement already satisfied: click in /opt/conda/lib/python3.7/site-packages (from nltk) (7.1.2)\n",
      "Collecting regex>=2021.8.3\n",
      "  Downloading regex-2023.10.3-cp37-cp37m-manylinux_2_17_x86_64.manylinux2014_x86_64.whl (761 kB)\n",
      "\u001b[2K     \u001b[90m━━━━━━━━━━━━━━━━━━━━━━━━━━━━━━━━━━━━━\u001b[0m \u001b[32m761.6/761.6 kB\u001b[0m \u001b[31m122.1 MB/s\u001b[0m eta \u001b[36m0:00:00\u001b[0m\n",
      "\u001b[?25hRequirement already satisfied: joblib in /opt/conda/lib/python3.7/site-packages (from nltk) (0.14.1)\n",
      "Installing collected packages: regex, nltk\n",
      "Successfully installed nltk-3.8.1 regex-2023.10.3\n",
      "\n",
      "\u001b[1m[\u001b[0m\u001b[34;49mnotice\u001b[0m\u001b[1;39;49m]\u001b[0m\u001b[39;49m A new release of pip available: \u001b[0m\u001b[31;49m22.3\u001b[0m\u001b[39;49m -> \u001b[0m\u001b[32;49m23.3\u001b[0m\n",
      "\u001b[1m[\u001b[0m\u001b[34;49mnotice\u001b[0m\u001b[1;39;49m]\u001b[0m\u001b[39;49m To update, run: \u001b[0m\u001b[32;49mpip install --upgrade pip\u001b[0m\n",
      "Note: you may need to restart the kernel to use updated packages.\n"
     ]
    }
   ],
   "source": [
    "# libraries for nlp preprocessing\n",
    "%pip install nltk\n",
    "import nltk.corpus\n",
    "from nltk.corpus import stopwords\n",
    "from nltk.tokenize import sent_tokenize\n",
    "from nltk.tokenize import word_tokenize\n",
    "from nltk.stem import WordNetLemmatizer\n",
    "from sklearn.feature_extraction.text import TfidfVectorizer"
   ]
  },
  {
   "cell_type": "code",
   "execution_count": 21,
   "metadata": {},
   "outputs": [
    {
     "name": "stderr",
     "output_type": "stream",
     "text": [
      "[nltk_data] Downloading package punkt to /home/jovyan/nltk_data...\n",
      "[nltk_data]   Unzipping tokenizers/punkt.zip.\n",
      "[nltk_data] Downloading package stopwords to /home/jovyan/nltk_data...\n",
      "[nltk_data]   Unzipping corpora/stopwords.zip.\n"
     ]
    },
    {
     "name": "stdout",
     "output_type": "stream",
     "text": [
      "BBCtrain_data['Train_Text_Cleaned'] without stop words: \n",
      " 0       worldcom exboss launches defence lawyers defen...\n",
      "1       german business confidence slides german busin...\n",
      "2       bbc poll indicates economic gloom citizens maj...\n",
      "3       lifestyle governs mobile choice faster better ...\n",
      "4       enron bosses payout eighteen former enron dire...\n",
      "                              ...                        \n",
      "1485    double eviction big brother model caprice holb...\n",
      "1486    dj double act revamp chart show dj duo jk joel...\n",
      "1487    weak dollar hits reuters revenues media group ...\n",
      "1488    apple ipod family expands market apple expande...\n",
      "1489    santy worm makes unwelcome visit thousands web...\n",
      "Name: Train_Text_Cleaned, Length: 1490, dtype: object \n",
      "\n",
      "BBCtest_data['Test_Text_Cleaned'] without stop words: \n",
      " 0      qpr keeper day heads preston queens park range...\n",
      "1      software watching work software monitor every ...\n",
      "2      arcy injury adds ireland woe gordon arcy ruled...\n",
      "3      india reliance family feud heats ongoing publi...\n",
      "4      boro suffer morrison injury blow middlesbrough...\n",
      "                             ...                        \n",
      "730    eu probe alitalia state aid european commissio...\n",
      "731    u play grammy awards show irish rock band u pl...\n",
      "732    sport betting rules spotlight group mps peers ...\n",
      "733    alfa romeos get gm engines fiat stop making si...\n",
      "734    citizenship event touted citizenship ceremonie...\n",
      "Name: Test_Text_Cleaned, Length: 735, dtype: object\n"
     ]
    }
   ],
   "source": [
    "## nlp preprocessing: remove stop words\n",
    "nltk.download('punkt')\n",
    "nltk.download('stopwords')\n",
    "stop_words = set(stopwords.words('english'))\n",
    "def remove_stop_words(text):\n",
    "    words = word_tokenize(text)\n",
    "    no_stop_words = [word for word in words if word.lower() not in stop_words]\n",
    "    return ' '.join(no_stop_words)\n",
    "\n",
    "\n",
    "# remove stop words from \"Train_Text_Cleaned\" in BBCtrain_data\n",
    "BBCtrain_data['Train_Text_Cleaned'] = BBCtrain_data['Train_Text_Cleaned'].apply(remove_stop_words)\n",
    "print(\"BBCtrain_data['Train_Text_Cleaned'] without stop words:\", \"\\n\", BBCtrain_data['Train_Text_Cleaned'], \"\\n\")\n",
    "\n",
    "# remove stop words from \"Test_Text_Cleaned\" in BBCtest_data\n",
    "BBCtest_data['Test_Text_Cleaned'] = BBCtest_data['Test_Text_Cleaned'].apply(remove_stop_words)\n",
    "print(\"BBCtest_data['Test_Text_Cleaned'] without stop words:\", \"\\n\", BBCtest_data['Test_Text_Cleaned'])"
   ]
  },
  {
   "cell_type": "code",
   "execution_count": 22,
   "metadata": {},
   "outputs": [
    {
     "name": "stderr",
     "output_type": "stream",
     "text": [
      "[nltk_data] Downloading package punkt to /home/jovyan/nltk_data...\n",
      "[nltk_data]   Package punkt is already up-to-date!\n",
      "[nltk_data] Downloading package wordnet to /home/jovyan/nltk_data...\n"
     ]
    }
   ],
   "source": [
    "## nlp preprocessing: tokenization and lemmatization\n",
    "nltk.download('punkt')\n",
    "nltk.download('wordnet')\n",
    "\n",
    "lemmatizer = WordNetLemmatizer()\n",
    "def tokenization_then_lemmatization(text):\n",
    "    tokenized_words = word_tokenize(text)\n",
    "    lemmatized_words = [lemmatizer.lemmatize(tokenized_word) for tokenized_word in tokenized_words]\n",
    "    return ' '.join(lemmatized_words)\n",
    "\n",
    "# lemmatization of word tokens in \"Train_Text_Cleaned\" in BBCtrain_data\n",
    "BBCtrain_data['Train_Text_Cleaned'] = BBCtrain_data['Train_Text_Cleaned'].apply(tokenization_then_lemmatization)\n",
    "\n",
    "\n",
    "# lemmatization of word tokens in \"Test_Text_Cleaned\" in BBCtest_data\n",
    "BBCtest_data['Test_Text_Cleaned'] = BBCtest_data['Test_Text_Cleaned'].apply(tokenization_then_lemmatization)"
   ]
  },
  {
   "cell_type": "code",
   "execution_count": 23,
   "metadata": {},
   "outputs": [
    {
     "name": "stdout",
     "output_type": "stream",
     "text": [
      "walmart sued rude lyric parent yearold girl suing u supermarket giant walmart cd rock group evanescence contains swear word lawsuit filed washington county alleges walmart deceived customer putting warning label cover trevin skeens alleges walmart knew offending word censored music sale website walmart said investigating claim plan pull cd walmart policy stocking cd carry parental advisory label mr skeens said bought anywhere home cd daughter shocked hear swearing played car want family get expecting clean need removed shelf prevent child hearing said mr skeens brownsville lawsuit seek force walmart censor music remove store maryland also seek damage every customer bought cd maryland walmarts also naming record label windup record distributor bmg entertainment legal action walmart set high standard would possible eliminate every image word topic individual might find objectionable walmart spokesman guy whitcomb told heraldmail hagerstown\n"
     ]
    }
   ],
   "source": [
    "# inspecting the cleaned text from a random row in BBCtrain_data\n",
    "cleaned_train_rand_row = BBCtrain_data.sample(n=1, random_state=42)\n",
    "print(cleaned_train_rand_row['Train_Text_Cleaned'].values[0])"
   ]
  },
  {
   "cell_type": "code",
   "execution_count": 24,
   "metadata": {},
   "outputs": [
    {
     "name": "stdout",
     "output_type": "stream",
     "text": [
      "golden rule intact say exaide chancellor gordon brown meet golden economic rule margin spare according former chief economic adviser formerly one mr brown closest treasury aide ed ball hinted budget giveaway march said hoped would done build current tax credit rule rate rise ahead expected may election would affect labour party chance winning added last july mr ball right step treasury position run parliament defending labour stronghold normanton west yorkshire mr ball rejected allegation mr brown sidelined election campaign saying playing different role one played last two election rejected speculation mr brown considering becoming foreign secretary saying recent travel linked effort boost international development gordon brown decision announce date budget trip china sensible thing since talking skill investment time mr ball told bbc commenting speculation interest rate rise said within remit bank england monetary policy committee mpc factor potential election rate decision expectation rate rise gathered pace figure showed house price still rising consumer borrowing rose nearrecord pace january believe would big election issue britain problem labour mr ball said prime minister tony blair yet name date election pundit betting may likely day\n"
     ]
    }
   ],
   "source": [
    "# inspecting the cleaned text from a random row in BBCtest_data\n",
    "cleaned_test_rand_row = BBCtest_data.sample(n=1, random_state=42)\n",
    "print(cleaned_test_rand_row['Test_Text_Cleaned'].values[0])"
   ]
  },
  {
   "cell_type": "code",
   "execution_count": 25,
   "metadata": {},
   "outputs": [
    {
     "name": "stdout",
     "output_type": "stream",
     "text": [
      "text average word count in BBCtrain_data after nlp preprocessing: 212.85704697986577\n",
      "text max word count in BBCtrain_data after nlp preprocessing: 1632\n",
      "text min word count in BBCtrain_data after nlp preprocessing: 47 /n\n",
      "text average word count in BBCtest_data after nlp preprocessing: 220.28843537414966\n",
      "text max word count in BBCtest_data after nlp preprocessing: 2187\n",
      "text min word count in BBCtest_data after nlp preprocessing: 69\n"
     ]
    }
   ],
   "source": [
    "# computing average, max, min word count for the texts in BBCtrain_data after nlp preprocessing\n",
    "BBCtrain_raw_avg = BBCtrain_data['Train_Text_Cleaned'].apply(lambda x: len(str(x).split())).mean()\n",
    "BBCtrain_raw_max = BBCtrain_data['Train_Text_Cleaned'].apply(lambda x: len(str(x).split())).max()\n",
    "BBCtrain_raw_min = BBCtrain_data['Train_Text_Cleaned'].apply(lambda x: len(str(x).split())).min()\n",
    "print(\"text average word count in BBCtrain_data after nlp preprocessing:\", BBCtrain_raw_avg)\n",
    "print(\"text max word count in BBCtrain_data after nlp preprocessing:\", BBCtrain_raw_max)\n",
    "print(\"text min word count in BBCtrain_data after nlp preprocessing:\", BBCtrain_raw_min, \"/n\")\n",
    "\n",
    "# computing average, max, min word count for the texts in BBCtest_data after nlp preprocessing\n",
    "BBCtest_raw_avg = BBCtest_data['Test_Text_Cleaned'].apply(lambda x: len(str(x).split())).mean()\n",
    "BBCtest_raw_max = BBCtest_data['Test_Text_Cleaned'].apply(lambda x: len(str(x).split())).max()\n",
    "BBCtest_raw_min = BBCtest_data['Test_Text_Cleaned'].apply(lambda x: len(str(x).split())).min()\n",
    "print(\"text average word count in BBCtest_data after nlp preprocessing:\", BBCtest_raw_avg)\n",
    "print(\"text max word count in BBCtest_data after nlp preprocessing:\", BBCtest_raw_max)\n",
    "print(\"text min word count in BBCtest_data after nlp preprocessing:\", BBCtest_raw_min)"
   ]
  },
  {
   "cell_type": "code",
   "execution_count": 26,
   "metadata": {},
   "outputs": [
    {
     "data": {
      "image/png": "[encoded data removed]",
      "text/plain": [
       "<Figure size 432x288 with 1 Axes>"
      ]
     },
     "metadata": {
      "needs_background": "light"
     },
     "output_type": "display_data"
    }
   ],
   "source": [
    "# visualizing the word count distribution for the cleaned text in BBCtrain_data\n",
    "BBCtrain_cleaned_word_count = BBCtrain_data['Train_Text_Cleaned'].apply(lambda x: len(str(x).split()))\n",
    "plt.hist(BBCtrain_cleaned_word_count, bins = 50, edgecolor='k')\n",
    "plt.title('Distribution of Cleaned Text Word Count in BBCtrain_data')\n",
    "plt.xlabel('Word Count')\n",
    "plt.ylabel('Frequency')\n",
    "plt.show()"
   ]
  },
  {
   "cell_type": "code",
   "execution_count": 27,
   "metadata": {},
   "outputs": [
    {
     "data": {
      "image/png": "[encoded data removed]",
      "text/plain": [
       "<Figure size 432x288 with 1 Axes>"
      ]
     },
     "metadata": {
      "needs_background": "light"
     },
     "output_type": "display_data"
    }
   ],
   "source": [
    "# visualizing the word count distribution for the cleaned text in BBCtest_data\n",
    "BBCtest_cleaned_word_count = BBCtest_data['Test_Text_Cleaned'].apply(lambda x: len(str(x).split()))\n",
    "plt.hist(BBCtest_cleaned_word_count, bins = 50, edgecolor='k')\n",
    "plt.title('Distribution of Cleaned Text Word Count in BBCtest_data')\n",
    "plt.xlabel('Word Count')\n",
    "plt.ylabel('Frequency')\n",
    "plt.show()"
   ]
  },
  {
   "cell_type": "markdown",
   "metadata": {},
   "source": [
    "##### Summary for Section 3.4:\n",
    "In order to facilitate modeling in later sections, several nlp preprocessing steps are done for the news article texts in both BBCtrain_data and BBCtest_data:\n",
    "1. Stop words are removed.\n",
    "2. Paragraphs are tokenized into words.\n",
    "3. Words are lemmatized.\n",
    "\n",
    "After these nlp preprocessing steps, I inspected the cleaned texts and found that their lengths have been largely reduced to an average word count of about 213, a max word count of 1632, and a min word count of 47 in BBCtrain_data, and an average word count of about 220, a max word count of 2187, and a min word count of 69 in BBCtest_data. The concentrated texts will improve model performance and the accuracy of category prediction."
   ]
  },
  {
   "cell_type": "markdown",
   "metadata": {},
   "source": [
    "### 4. Unsupervised Model Building, Training: None-negative Matrix Factorization (NMF)\n",
    "<a id='4-unsupervised-model-building-training-none-negative-matrix-factorization-nmf'></a>\n",
    "In this section, I will build a model with TF-IDF vectorizer, which will vectorize the strings of lemmas of the news articles into vectors, a unsupervised domain reduction NF model, and a supervised classifier LR. At the same time, I will do hyperparameter tuning using GridsearchCV with 5-fold cross-validations to get the best hyperparamters of the hybrid model. \n",
    "\n",
    "The reason why TF-IDF is chosen as the vectorizer here is because that BBCtrain_data is rather small, since it consists of 1490 news articles, with an average length of 212 lemmas and an approximately normal distribution (see sections 2 and 3). TF-IDF is efficient, requires less intense computer resources, and is adequate for small dataset and simple models like NMF and LR. It will generate sparse matrixes but this is mitigated by size of dataset, which is rather small."
   ]
  },
  {
   "cell_type": "code",
   "execution_count": 28,
   "metadata": {},
   "outputs": [
    {
     "name": "stdout",
     "output_type": "stream",
     "text": [
      "Fitting 5 folds for each of 64 candidates, totalling 320 fits\n"
     ]
    },
    {
     "name": "stderr",
     "output_type": "stream",
     "text": [
      "[Parallel(n_jobs=-1)]: Using backend LokyBackend with 2 concurrent workers.\n",
      "[Parallel(n_jobs=-1)]: Done  46 tasks      | elapsed:   17.5s\n",
      "[Parallel(n_jobs=-1)]: Done 196 tasks      | elapsed:  1.3min\n",
      "[Parallel(n_jobs=-1)]: Done 320 out of 320 | elapsed:  2.1min finished\n"
     ]
    },
    {
     "name": "stdout",
     "output_type": "stream",
     "text": [
      "TFIDF_NMF_LR Best parameters: {'clf__C': 1, 'clf__penalty': 'l2', 'nmf__alpha': 0.0, 'nmf__l1_ratio': 0.0, 'tfidf__max_features': 3000, 'tfidf__ngram_range': (1, 2)}\n"
     ]
    }
   ],
   "source": [
    "from sklearn.feature_extraction.text import TfidfVectorizer\n",
    "from sklearn.decomposition import NMF\n",
    "from sklearn.linear_model import LogisticRegression\n",
    "from sklearn.pipeline import Pipeline\n",
    "from sklearn.model_selection import GridSearchCV\n",
    "\n",
    "# defining the TFIDF_NMF_LR pipeline\n",
    "TFIDF_NMF_LR_pipeline = Pipeline([\n",
    "    ('tfidf', TfidfVectorizer()), # dealt with 'stop words' before, so excluded this hyperparameter  \n",
    "    ('nmf', NMF(n_components=5, random_state=42)), # 5 categories: sport, business, politics, entertainment, tech  \n",
    "    ('clf', LogisticRegression(max_iter=200))\n",
    "])\n",
    "\n",
    "# defining the TFIDF_NMF_LR hyperparameters and their possible values\n",
    "TFIDF_NMF_LR_param_grid = {\n",
    "    'tfidf__max_features': [3000, 5000],  \n",
    "    'tfidf__ngram_range': [(1, 1), (1, 2)], \n",
    "    'nmf__alpha': [0.0, 0.1],\n",
    "    'nmf__l1_ratio': [0.0, 0.25],\n",
    "    'clf__C': [0.1, 1],\n",
    "    'clf__penalty': ['l1', 'l2'],\n",
    "}\n",
    "\n",
    "# doing grid search for TFIDF_NMF_LR with 5-fold cross-validation\n",
    "TFIDF_NMF_LR_grid_search = GridSearchCV(TFIDF_NMF_LR_pipeline, TFIDF_NMF_LR_param_grid, cv=5, verbose=1, n_jobs=-1)\n",
    "TFIDF_NMF_LR_grid_search.fit(BBCtrain_data['Train_Text_Cleaned'], BBCtrain_data['Category'])\n",
    "\n",
    "print(\"TFIDF_NMF_LR Best parameters:\", TFIDF_NMF_LR_grid_search.best_params_)"
   ]
  },
  {
   "cell_type": "code",
   "execution_count": 29,
   "metadata": {},
   "outputs": [
    {
     "name": "stdout",
     "output_type": "stream",
     "text": [
      "best TFIDF vectorizer tuned together with NMF and LR: TfidfVectorizer(analyzer='word', binary=False, decode_error='strict',\n",
      "                dtype=<class 'numpy.float64'>, encoding='utf-8',\n",
      "                input='content', lowercase=True, max_df=1.0, max_features=3000,\n",
      "                min_df=1, ngram_range=(1, 2), norm='l2', preprocessor=None,\n",
      "                smooth_idf=True, stop_words=None, strip_accents=None,\n",
      "                sublinear_tf=False, token_pattern='(?u)\\\\b\\\\w\\\\w+\\\\b',\n",
      "                tokenizer=None, use_idf=True, vocabulary=None) \n",
      "\n",
      "best LR classifer tuned together with TFIDF and NMF: LogisticRegression(C=1, class_weight=None, dual=False, fit_intercept=True,\n",
      "                   intercept_scaling=1, l1_ratio=None, max_iter=200,\n",
      "                   multi_class='auto', n_jobs=None, penalty='l2',\n",
      "                   random_state=None, solver='lbfgs', tol=0.0001, verbose=0,\n",
      "                   warm_start=False) \n",
      "\n",
      "best NMF model: NMF(alpha=0.0, beta_loss='frobenius', init=None, l1_ratio=0.0, max_iter=200,\n",
      "    n_components=5, random_state=42, shuffle=False, solver='cd', tol=0.0001,\n",
      "    verbose=0)\n"
     ]
    }
   ],
   "source": [
    "# best TFIDF vectorizer tuned together with NMF and LR\n",
    "TFIDF_NMF_LR_vectorizer = TFIDF_NMF_LR_grid_search.best_estimator_.named_steps['tfidf']\n",
    "print(\"best TFIDF vectorizer tuned together with NMF and LR:\", TFIDF_NMF_LR_vectorizer, \"\\n\")\n",
    "\n",
    "# best LR classifer tuned together with TFIDF and NMF\n",
    "TFIDF_NMF_LR_classifier = TFIDF_NMF_LR_grid_search.best_estimator_.named_steps['clf']\n",
    "print(\"best LR classifer tuned together with TFIDF and NMF:\", TFIDF_NMF_LR_classifier, \"\\n\")\n",
    "\n",
    "# best NMF\n",
    "NMF_model = TFIDF_NMF_LR_grid_search.best_estimator_.named_steps['nmf']\n",
    "print(\"best NMF model:\", NMF_model)"
   ]
  },
  {
   "cell_type": "code",
   "execution_count": 30,
   "metadata": {},
   "outputs": [
    {
     "name": "stdout",
     "output_type": "stream",
     "text": [
      "     ArticleId NMFtest_PredictedCategory\n",
      "0         1018                     sport\n",
      "1         1319                      tech\n",
      "2         1138                     sport\n",
      "3          459                  business\n",
      "4         1020                     sport\n",
      "..         ...                       ...\n",
      "730       1923                  business\n",
      "731        373             entertainment\n",
      "732       1704                      tech\n",
      "733        206                  business\n",
      "734        471                  politics\n",
      "\n",
      "[735 rows x 2 columns]\n"
     ]
    }
   ],
   "source": [
    "## the task\n",
    "# predicting the news article categories in BBCtest_data using the TFIDF_NMF_LR model\n",
    "TFIDF_NMF_LR_y_pred_test = TFIDF_NMF_LR_grid_search.predict(BBCtest_data['Test_Text_Cleaned'])\n",
    "\n",
    "# adding the predictions to BBCtest_data\n",
    "BBCtest_data['NMFtest_PredictedCategory'] = TFIDF_NMF_LR_y_pred_test\n",
    "\n",
    "# displaying BBCtest_data with the predicted categories\n",
    "print(BBCtest_data[['ArticleId', 'NMFtest_PredictedCategory']])"
   ]
  },
  {
   "cell_type": "code",
   "execution_count": 31,
   "metadata": {},
   "outputs": [
    {
     "name": "stdout",
     "output_type": "stream",
     "text": [
      "      ArticleId NMFtrain_PredictedCategory       Category\n",
      "0          1833                   business       business\n",
      "1           154                   business       business\n",
      "2          1101                   business       business\n",
      "3          1976                       tech           tech\n",
      "4           917                   business       business\n",
      "...         ...                        ...            ...\n",
      "1485        857              entertainment  entertainment\n",
      "1486        325              entertainment  entertainment\n",
      "1487       1590                   business       business\n",
      "1488       1587                       tech           tech\n",
      "1489        538                       tech           tech\n",
      "\n",
      "[1490 rows x 3 columns]\n"
     ]
    }
   ],
   "source": [
    "## eyeballing the prediction power of the TFIDF_NMF_LR model\n",
    "## comparing the predicted categories and their ground truth categories in BBCtrain_data\n",
    "\n",
    "# predicting the news article categories in BBCtrain_data using the TFIDF_NMF_LR model\n",
    "TFIDF_NMF_LR_X_pred_train = TFIDF_NMF_LR_grid_search.predict(BBCtrain_data['Train_Text_Cleaned'])\n",
    "\n",
    "# adding the predictions to BBCtest_data\n",
    "BBCtrain_data['NMFtrain_PredictedCategory'] = TFIDF_NMF_LR_X_pred_train\n",
    "\n",
    "# displaying BBCtrain_data with the predicted and ground truth categories\n",
    "print(BBCtrain_data[['ArticleId', 'NMFtrain_PredictedCategory', 'Category']])"
   ]
  },
  {
   "cell_type": "markdown",
   "metadata": {},
   "source": [
    "##### Summary for the TFIDF_NMF_LR Model:\n",
    "1. The best TFIDF vectorizer, tuned together with NMF and LR, is TFIDF_NMF_LR_vectorizer with hyperparamters 'tfidf__max_features': 3000, and 'tfidf__ngram_range': (1, 2).\n",
    "2. The best NMF, tuned together with TFIDF and LR, is NMF_model with hyperparameters, 'nmf__alpha': 0.0, and 'nmf__l1_ratio': 0.0. I set the random_state to 42 to ensure the same random results, and 'n_components'to 5 since there are 5 category labels in BBCtrain_data.\n",
    "3. The best LR classifer, tuned together with TFIDF and NMF, is TFIDF_NMF_LR_classifier with hyperparameters 'clf__C': 1, and 'clf__penalty': 'l2'. I set max_iter to 200 to cut down the run time.\n",
    "4. The main task, category prediction for BBCtest_data, is completed, and stored in BBCtest_data['NMFtest_PredictedCategory'].\n",
    "5. For model evaluation metric in a later section, category prediction is also done for BBCtrain_dataset, and stored in BBCtrain_data['NMFtrain_PredictedCategory']."
   ]
  },
  {
   "cell_type": "markdown",
   "metadata": {},
   "source": [
    "### 5. Supervised Model Building and Training: Logistic Regression (LR)\n",
    "<a id='5-supervised-model-building-and-training-logistic-regression-lr'></a>\n",
    "In this section, I will build a model with TF-IDF vectorizer, which will vectorize the strings of lemmas of the news articles into vectors, and a supervised classifier LR. At the same time, I will do hyperparameter tuning using GridsearchCV with 5-fold cross-validations to get the best hyperparamters of the hybrid model. \n",
    "\n",
    "The reason why TF-IDF is chosen as the vectorizer here is the same as the one explained in section 4."
   ]
  },
  {
   "cell_type": "code",
   "execution_count": 32,
   "metadata": {},
   "outputs": [
    {
     "name": "stdout",
     "output_type": "stream",
     "text": [
      "Fitting 5 folds for each of 16 candidates, totalling 80 fits\n"
     ]
    },
    {
     "name": "stderr",
     "output_type": "stream",
     "text": [
      "[Parallel(n_jobs=-1)]: Using backend LokyBackend with 2 concurrent workers.\n",
      "[Parallel(n_jobs=-1)]: Done  46 tasks      | elapsed:   15.4s\n",
      "[Parallel(n_jobs=-1)]: Done  80 out of  80 | elapsed:   30.2s finished\n"
     ]
    },
    {
     "name": "stdout",
     "output_type": "stream",
     "text": [
      "TFIDF_LR Best parameters:  {'clf__C': 1, 'clf__penalty': 'l2', 'tfidf__max_features': 5000, 'tfidf__ngram_range': (1, 1)}\n"
     ]
    }
   ],
   "source": [
    "# defining the TFIDF_LR pipeline\n",
    "TFIDF_LR_pipeline = Pipeline([\n",
    "    ('tfidf', TfidfVectorizer()),\n",
    "    ('clf', LogisticRegression(max_iter=200))\n",
    "])\n",
    "\n",
    "# defining the TFIDF_SVM hyperparameters and their possible values\n",
    "TFIDF_LR_param_grid = {\n",
    "    'tfidf__max_features': [3000, 5000],\n",
    "    'tfidf__ngram_range': [(1, 1), (1, 2)],\n",
    "    'clf__C': [0.1, 1],\n",
    "    'clf__penalty': ['l1', 'l2']\n",
    "}\n",
    "\n",
    "# doing grid search for TFIDF_SVM with 5-fold cross-validation\n",
    "TFIDF_LR_grid_search = GridSearchCV(TFIDF_LR_pipeline, TFIDF_LR_param_grid, cv=5, verbose=1, n_jobs=-1)\n",
    "TFIDF_LR_grid_search.fit(BBCtrain_data['Train_Text_Cleaned'], BBCtrain_data['Category'])\n",
    "print(\"TFIDF_LR Best parameters: \", TFIDF_LR_grid_search.best_params_)"
   ]
  },
  {
   "cell_type": "code",
   "execution_count": 33,
   "metadata": {},
   "outputs": [
    {
     "name": "stdout",
     "output_type": "stream",
     "text": [
      "best TFIDF vectorizer used together with LR: TfidfVectorizer(analyzer='word', binary=False, decode_error='strict',\n",
      "                dtype=<class 'numpy.float64'>, encoding='utf-8',\n",
      "                input='content', lowercase=True, max_df=1.0, max_features=5000,\n",
      "                min_df=1, ngram_range=(1, 1), norm='l2', preprocessor=None,\n",
      "                smooth_idf=True, stop_words=None, strip_accents=None,\n",
      "                sublinear_tf=False, token_pattern='(?u)\\\\b\\\\w\\\\w+\\\\b',\n",
      "                tokenizer=None, use_idf=True, vocabulary=None) \n",
      "\n",
      "best LR model used together with TFIDF: LogisticRegression(C=1, class_weight=None, dual=False, fit_intercept=True,\n",
      "                   intercept_scaling=1, l1_ratio=None, max_iter=200,\n",
      "                   multi_class='auto', n_jobs=None, penalty='l2',\n",
      "                   random_state=None, solver='lbfgs', tol=0.0001, verbose=0,\n",
      "                   warm_start=False)\n"
     ]
    }
   ],
   "source": [
    "# best TFIDF vectorizer used together with LR\n",
    "TFIDF_LR_vectorizer = TFIDF_LR_grid_search.best_estimator_.named_steps['tfidf']\n",
    "print(\"best TFIDF vectorizer used together with LR:\", TFIDF_LR_vectorizer, \"\\n\")\n",
    "\n",
    "# best LR classifier used together with TFIDF\n",
    "LR_model = TFIDF_LR_grid_search.best_estimator_.named_steps['clf']\n",
    "print(\"best LR model used together with TFIDF:\", LR_model)"
   ]
  },
  {
   "cell_type": "code",
   "execution_count": 34,
   "metadata": {},
   "outputs": [
    {
     "name": "stdout",
     "output_type": "stream",
     "text": [
      "     ArticleId LRtest_PredictedCategory\n",
      "0         1018                    sport\n",
      "1         1319                     tech\n",
      "2         1138                    sport\n",
      "3          459                 business\n",
      "4         1020                    sport\n",
      "..         ...                      ...\n",
      "730       1923                 business\n",
      "731        373            entertainment\n",
      "732       1704                 politics\n",
      "733        206                 business\n",
      "734        471                 politics\n",
      "\n",
      "[735 rows x 2 columns]\n"
     ]
    }
   ],
   "source": [
    "# predicting the news article categories in BBCtest_data using the TFIDF_LR model\n",
    "TFIDF_LR_y_pred_test = TFIDF_LR_grid_search.predict(BBCtest_data['Test_Text_Cleaned'])\n",
    "\n",
    "# adding the predictions to BBCtest_data\n",
    "BBCtest_data['LRtest_PredictedCategory'] = TFIDF_LR_y_pred_test\n",
    "\n",
    "# displaying BBCtest_data with the predicted categories\n",
    "print(BBCtest_data[['ArticleId', 'LRtest_PredictedCategory']])"
   ]
  },
  {
   "cell_type": "code",
   "execution_count": 35,
   "metadata": {},
   "outputs": [
    {
     "name": "stdout",
     "output_type": "stream",
     "text": [
      "      ArticleId LRtrain_PredictedCategory       Category\n",
      "0          1833                  business       business\n",
      "1           154                  business       business\n",
      "2          1101                  business       business\n",
      "3          1976                      tech           tech\n",
      "4           917                  business       business\n",
      "...         ...                       ...            ...\n",
      "1485        857             entertainment  entertainment\n",
      "1486        325             entertainment  entertainment\n",
      "1487       1590                  business       business\n",
      "1488       1587                      tech           tech\n",
      "1489        538                      tech           tech\n",
      "\n",
      "[1490 rows x 3 columns]\n"
     ]
    }
   ],
   "source": [
    "## eyeballing the prediction power of the TFIDF_LR model\n",
    "## comparing the predicted categories and their ground truth categories in BBCtrain_data\n",
    "\n",
    "# predicting the news article categories in BBCtrain_data using the TFIDF_LR model\n",
    "TFIDF_LR_X_pred_train = TFIDF_LR_grid_search.predict(BBCtrain_data['Train_Text_Cleaned'])\n",
    "\n",
    "# adding the predictions to BBCtrain_data\n",
    "BBCtrain_data['LRtrain_PredictedCategory'] = TFIDF_LR_X_pred_train\n",
    "\n",
    "# displaying BBCtrain_data with the predicted and ground truth categories\n",
    "print(BBCtrain_data[['ArticleId', 'LRtrain_PredictedCategory', 'Category']])"
   ]
  },
  {
   "cell_type": "markdown",
   "metadata": {},
   "source": [
    "##### Summary for the TFIDF_LR Model:\n",
    "1. The best TFIDF vectorizer, tuned together with NMF and LR, is TFIDF_LR_vectorizer with hyperparamters 'tfidf__max_features': 5000, and 'tfidf__ngram_range': (1, 1), which is different from TFIDF_NMF_LR_vectorizer in section 4.\n",
    "2. The best LR model, tuned together with TFIDF and NMF, is TFIDF_LR_classifier with hyperparameters 'clf__C': 1, and 'clf__penalty': 'l2', which is the same as the TFIDF_NMF_LR_classifier in section 4. I set max_iter to 200 to cut down the run time.\n",
    "3. The main task, category prediction for BBCtest_data, is completed, and stored in BBCtest_data['NMFtest_PredictedCategory'].\n",
    "4. For model evaluation metric in a later section, category prediction is also done for BBCtrain_dataset, and stored in BBCtrain_data['NMFtrain_PredictedCategory']."
   ]
  },
  {
   "cell_type": "markdown",
   "metadata": {},
   "source": [
    "### 6. Model Evaluation and Comparison: Unsupervised vs. Supervised Models\n",
    "<a id='6-model-evaluation-and-comparison-unsupervised-vs-supervised-models'></a>\n",
    "In this section, I will compare the performance of the two hybrid models, TFIDF_NMF_LR and TFIDF_LR, one with and one without NMF, using both quantitative and qualitative evaluation metrics:\n",
    "\n",
    "Since there is no prelabled categories in the provided test dataset, quantitative evaluation can only be done for prediction using the provided training dataset, including metrics such as precision, recall, F1-score, missclassification instances, confusion matrix for each category, as well as the overall accuracy.\n",
    "\n",
    "For the same reason, prediction using the test dataset can only be evaluated with qualitative evaluation metrics. I will inspect the content of two random news articles from the test dataset, and see if its content does match its predicted categories.\n",
    "\n",
    "I will include a comparison of the two hybrid models at the end of this entire section."
   ]
  },
  {
   "cell_type": "code",
   "execution_count": 36,
   "metadata": {},
   "outputs": [],
   "source": [
    "from sklearn.metrics import accuracy_score\n",
    "from sklearn.metrics import precision_score\n",
    "from sklearn.metrics import confusion_matrix\n",
    "from sklearn.metrics import roc_curve, roc_auc_score\n",
    "from sklearn.metrics import classification_report"
   ]
  },
  {
   "cell_type": "markdown",
   "metadata": {},
   "source": [
    "##### 6.1 Evaluation of the Unsupervised Approach: Hybrid Model TFIDF_NMF_LR\n",
    "<a id='61-evaluation-of-the-unsupervised-non-negative-matrix-factorization-model-nmf'></a>"
   ]
  },
  {
   "cell_type": "code",
   "execution_count": 37,
   "metadata": {},
   "outputs": [
    {
     "name": "stdout",
     "output_type": "stream",
     "text": [
      "Classification Report - TFIDF_NMF_LR:\n",
      "               precision    recall  f1-score   support\n",
      "\n",
      "     business       0.85      0.97      0.90       336\n",
      "entertainment       0.96      0.83      0.89       273\n",
      "     politics       0.96      0.86      0.91       274\n",
      "        sport       0.92      0.99      0.96       346\n",
      "         tech       0.91      0.88      0.89       261\n",
      "\n",
      "     accuracy                           0.91      1490\n",
      "    macro avg       0.92      0.91      0.91      1490\n",
      " weighted avg       0.92      0.91      0.91      1490\n",
      "\n"
     ]
    }
   ],
   "source": [
    "## quantitative evaluation metrics\n",
    "TFIDF_NMF_LR_X_true_train = BBCtrain_data['Category']\n",
    "TFIDF_NMF_LR_X_pred_train = BBCtrain_data['NMFtrain_PredictedCategory']\n",
    "\n",
    "print(\"Classification Report - TFIDF_NMF_LR:\")\n",
    "print(classification_report(TFIDF_NMF_LR_X_true_train, TFIDF_NMF_LR_X_pred_train))"
   ]
  },
  {
   "cell_type": "code",
   "execution_count": 38,
   "metadata": {},
   "outputs": [
    {
     "name": "stdout",
     "output_type": "stream",
     "text": [
      "TFIDF_NMF_LR confusion matrix: [[325   1   4   1   5]\n",
      " [ 16 227   4  11  15]\n",
      " [ 31   0 236   4   3]\n",
      " [  1   2   0 343   0]\n",
      " [ 11   7   1  12 230]] \n",
      "\n",
      "TFIDF_NMF_LR overall accuracy: 0.9134228187919463\n"
     ]
    }
   ],
   "source": [
    "## quantitative evaluation metrics\n",
    "# confusion matrix of TFIDF_NMF_LR\n",
    "import numpy as np\n",
    "NMF_confusionMatrix = confusion_matrix(TFIDF_NMF_LR_X_true_train, TFIDF_NMF_LR_X_pred_train)\n",
    "print(\"TFIDF_NMF_LR confusion matrix:\", NMF_confusionMatrix, \"\\n\")\n",
    "\n",
    "NMF_acc = np.trace(NMF_confusionMatrix) / np.sum(NMF_confusionMatrix) #sum diagonal / sum total\n",
    "print(\"TFIDF_NMF_LR overall accuracy:\", NMF_acc)"
   ]
  },
  {
   "cell_type": "markdown",
   "metadata": {},
   "source": [
    "TFIDF_NMF_LR confusion matrix diagonal values: <br>\n",
    "325 correct predictions for class 1 <br>\n",
    "227 correct predictions for class 2 <br>\n",
    "236 correct predictions for class 3 <br>\n",
    "343 correct predictions for class 4 <br>\n",
    "230 correct predictions for class 5 <br>\n",
    "\n",
    "TFIDF_NMF_LR confusion matrix off-diagonal values: <br>\n",
    "For class 1: <br>\n",
    "1 was misclassified as class 2 <br>\n",
    "4 were misclassified as class 3 <br>\n",
    "1 was misclassified as class 4 <br>\n",
    "5 were misclassified as class 5 <br>\n",
    "\n",
    "For class 2: <br>\n",
    "16 were misclassified as class 1 <br>\n",
    "4 were misclassified as class 3 <br>\n",
    "11 were misclassified as class 4 <br>\n",
    "15 were misclassified as class 5 <br>\n",
    "\n",
    "For class 3: <br>\n",
    "31 were misclassified as class 1 <br>\n",
    "4 were misclassified as class 4 <br>\n",
    "3 were misclassified as class 5 <br>\n",
    "\n",
    "For class 4: <br>\n",
    "1 was misclassified as class 1 <br>\n",
    "2 were misclassified as class 2 <br>\n",
    "\n",
    "For class 5: <br>\n",
    "11 were misclassified as class 1 <br>\n",
    "7 were misclassified as class 2 <br>\n",
    "1 was misclassified as class 3 <br>\n",
    "12 were misclassified as class 4 <br>\n",
    "\n",
    "Overall accuracy: 0.9134228187919463"
   ]
  },
  {
   "cell_type": "code",
   "execution_count": 39,
   "metadata": {},
   "outputs": [
    {
     "data": {
      "image/png": "[encoded data removed]",
      "text/plain": [
       "<Figure size 432x288 with 1 Axes>"
      ]
     },
     "metadata": {
      "needs_background": "light"
     },
     "output_type": "display_data"
    }
   ],
   "source": [
    "# visualizing the distribution of the misclassifications in TFIDF_NMF_LR\n",
    "TFIDF_NMF_LR_misclassifications = NMF_confusionMatrix.sum(axis=1) - np.diag(NMF_confusionMatrix)\n",
    "plt.bar(range(1, len(TFIDF_NMF_LR_misclassifications) + 1), TFIDF_NMF_LR_misclassifications)\n",
    "plt.xlabel('Class')\n",
    "plt.ylabel('Number of Misclassifications')\n",
    "plt.title('Misclassifications by Class in TFIDF_NMF_LR')\n",
    "plt.show()"
   ]
  },
  {
   "cell_type": "code",
   "execution_count": 40,
   "metadata": {},
   "outputs": [
    {
     "name": "stdout",
     "output_type": "stream",
     "text": [
      "['business' 'entertainment' 'politics' 'sport' 'tech']\n"
     ]
    }
   ],
   "source": [
    "# double-ckecking TFIDF_NMF_LR class labels\n",
    "print(TFIDF_NMF_LR_classifier.classes_)"
   ]
  },
  {
   "cell_type": "code",
   "execution_count": 41,
   "metadata": {},
   "outputs": [
    {
     "name": "stdout",
     "output_type": "stream",
     "text": [
      "1. the content of randomly selected news article in BBCtest_data : \n",
      "\n",
      "tories opposing 24-hour drinking the tories say plans to extend pub opening times should be put on hold until binge drinking is under control  despite backing a law change last year.  spokesman david davis said ministers had failed to make his party aware of concern among senior police that plans would cause more anti-social behaviour. notts police chief steve green said innocent people would suffer. but culture secretary tessa jowell said a delay would be  disastrous  and she accused the tories of opportunism. the government would go ahead with the changes which would give police more power to tackle excessive drinking  she added. earlier chief constable green questioned how his officers would be able to practically apply powers allowing them to shut down problem premises.  if you look at the market square in nottingham  if a fight takes place which licensed premises do you go and lay the responsibilty at the door of   he asked on bbc radio 4 s world at one programme.  he warned that if drinking establishments were allowed to open until three or four in the morning the police would have to take officers off day shifts in order to do their job effectively at night. earlier this year the royal college of physicians said it opposed the plan to extend drinking hours when there was already an  epidemic  of binge drinking. minister richard caborn said the government was tackling the causes and the symptoms of the problem by allowing more powers to close down problem premises. it is hoped that allowing pubs and clubs to stay open longer will stagger closing times and end the current situation where drinkers spill on to the streets all at once. earlier tony blair defended the plans against criticism from one of his own backbenchers.   my view of this is very clear: we should have the same flexibility that other countries have and then we should come down really hard on those who abuse that freedom and don t show the responsibility   he told mps.  the law-abiding majority who want the ability  after going to the cinema or theatre say  to have a drink at the time they want should not be inconvenienced  we shouldn t have to have restrictions that no other city in europe has  just in order to do something for that tiny minority who abuse alcohol  who go out and fight and cause disturbances.  to take away that ability for all the population - even the vast majority who are law abiding - is not  in my view  sensible.  this week a judge claimed easy access to drink was breeding  urban savages  and turning town centres into no go areas. judge charles harris qc made his remarks as he sentenced three men for assaults carried out while drunk and high on drugs after a night out. \n",
      "\n",
      "2. the predicted category using TFIDF_NF_LR for the article: \n",
      "\n",
      "politics\n"
     ]
    }
   ],
   "source": [
    "## qualitative evaluation metrics, sample 1\n",
    "# inspecting the content of a random news article in 'Text' in BBCtest_data\n",
    "# and see if it does match its predicted categories 'NMFtest_PredictedCategory'\n",
    "import random\n",
    "random.seed(42)\n",
    "random_index = random.choice(BBCtest_data.index)\n",
    "\n",
    "print(\"1. the content of randomly selected news article in BBCtest_data :\", \"\\n\")\n",
    "print(BBCtest_data.loc[random_index, 'Text'], \"\\n\")\n",
    "\n",
    "print(\"2. the predicted category using TFIDF_NF_LR for the article:\", \"\\n\")\n",
    "print(BBCtest_data.loc[random_index, 'NMFtest_PredictedCategory'])"
   ]
  },
  {
   "cell_type": "code",
   "execution_count": 42,
   "metadata": {},
   "outputs": [
    {
     "name": "stdout",
     "output_type": "stream",
     "text": [
      "1. the content of randomly selected news article in BBCtest_data : \n",
      "\n",
      "disney backs sony dvd technology a next generation dvd technology backed by sony has received a major boost.  film giant disney says it will produce its future dvds using sony s blu-ray disc technology  but has not ruled out a rival format developed by toshiba. the two competing dvd formats  blu-ray developed by sony and others  and toshiba s hd-dvd  have been courting top film studios for several months. the next generation of dvds promises very high quality pictures and sound  as well as a lot of data. both technologies use a blue laser to write information. it has a shorter wavelength so more data can be stored. disney is the latest studio to announce which technology it is backing in a format battle which mirrors the 1980s betamax versus vhs war. sony lost out to jvc in that fight.  the current battle for hollywood s hearts and minds is a crucial one because high-definition films will bring in billions of revenue and the studios would prefer to use one standard. last month  paramount  universal and warner brothers said they were opting for the toshiba and nec-backed format  hd-dvd high-definition discs.  those studios currently produce about 45% of dvd content. sony pictures entertainment and mgm studios have already staked their allegiance with the blu-ray disc association  whose members also include technology companies dell  samsung and matsushita. twentieth century fox is still to announce which technology it will be supporting. if fox decided to go with blu-ray too  it would mean the format would have a 47% share of dvd content. disney said its films would be available on the blu-ray format when dvd players for the standard went on sale on north america and japan  expected in 2006. universal is to start producing films on the hd-dvd format in 2005  and paramount will start releasing titles using the standard in 2006. toshiba expects sales of hd-dvds to reach 300bn yen ($2.9bn  £1.5bn) by 2010. \n",
      "\n",
      "2. the predicted category using TFIDF_NF_LR for the article: \n",
      "\n",
      "entertainment\n"
     ]
    }
   ],
   "source": [
    "## qualitative evaluation metrics, sample 2\n",
    "# inspecting the content of a random news article in 'Text' in BBCtest_data\n",
    "# and see if it does match its predicted categories 'NMFtest_PredictedCategory'\n",
    "import random\n",
    "random.seed(2023)\n",
    "random_index = random.choice(BBCtest_data.index)\n",
    "\n",
    "print(\"1. the content of randomly selected news article in BBCtest_data :\", \"\\n\")\n",
    "print(BBCtest_data.loc[random_index, 'Text'], \"\\n\")\n",
    "\n",
    "print(\"2. the predicted category using TFIDF_NF_LR for the article:\", \"\\n\")\n",
    "print(BBCtest_data.loc[random_index, 'NMFtest_PredictedCategory'])"
   ]
  },
  {
   "cell_type": "markdown",
   "metadata": {},
   "source": [
    "##### 6.2 Evaluation of the Supervised Approach: Hybrid Model TFIDF_LR\n",
    "<a id='62-evaluation-of-the-supervised-logistic-regression-lr'></a>"
   ]
  },
  {
   "cell_type": "code",
   "execution_count": 43,
   "metadata": {},
   "outputs": [
    {
     "name": "stdout",
     "output_type": "stream",
     "text": [
      "Classification Report - TFIDF_LR:\n",
      "               precision    recall  f1-score   support\n",
      "\n",
      "     business       1.00      1.00      1.00       336\n",
      "entertainment       1.00      1.00      1.00       273\n",
      "     politics       1.00      1.00      1.00       274\n",
      "        sport       1.00      1.00      1.00       346\n",
      "         tech       0.99      1.00      0.99       261\n",
      "\n",
      "     accuracy                           1.00      1490\n",
      "    macro avg       1.00      1.00      1.00      1490\n",
      " weighted avg       1.00      1.00      1.00      1490\n",
      "\n"
     ]
    }
   ],
   "source": [
    "## quantitative evaluation metrics\n",
    "TFIDF_LR_X_true_train = BBCtrain_data['Category']\n",
    "TFIDF_LR_X_pred_train = BBCtrain_data['LRtrain_PredictedCategory']\n",
    "\n",
    "print(\"Classification Report - TFIDF_LR:\")\n",
    "print(classification_report(TFIDF_LR_X_true_train, TFIDF_LR_X_pred_train))"
   ]
  },
  {
   "cell_type": "code",
   "execution_count": 44,
   "metadata": {},
   "outputs": [
    {
     "name": "stdout",
     "output_type": "stream",
     "text": [
      "TFIDF_LR confusion matrix: [[335   0   0   0   1]\n",
      " [  0 273   0   0   0]\n",
      " [  0   0 273   0   1]\n",
      " [  1   0   0 345   0]\n",
      " [  0   1   0   0 260]] \n",
      "\n",
      "TFIDF_LR overall accuracy: 0.9973154362416108\n"
     ]
    }
   ],
   "source": [
    "## quantitative evaluation metrics\n",
    "# confusion matrix of TFIDF_LR\n",
    "LR_confusionMatrix = confusion_matrix(TFIDF_LR_X_true_train, TFIDF_LR_X_pred_train)\n",
    "print(\"TFIDF_LR confusion matrix:\", LR_confusionMatrix, \"\\n\")\n",
    "\n",
    "LR_acc = np.trace(LR_confusionMatrix) / np.sum(LR_confusionMatrix) #sum diagonal / sum total\n",
    "print(\"TFIDF_LR overall accuracy:\", LR_acc)"
   ]
  },
  {
   "cell_type": "markdown",
   "metadata": {},
   "source": [
    "TFIDF_LR confusion matrix diagonal values: <br>\n",
    "335 correct predictions for class 1 <br>\n",
    "273 correct predictions for class 2 <br>\n",
    "273 correct predictions for class 3 <br>\n",
    "345 correct predictions for class 4 <br>\n",
    "260 correct predictions for class 5 <br>\n",
    "\n",
    "TFIDF_LR confusion matrix off-diagonal values: <br>\n",
    "For class 1: 1 was misclassified as class 5 <br>\n",
    "For class 2: none <br>\n",
    "For class 3: 1 was misclassified as class 5 <br>\n",
    "For class 4: 1 was misclassified as class 1 <br>\n",
    "For class 5: 1 was misclassified as class 2 <br>\n",
    "\n",
    "Overall accuracy: 0.9973154362416108"
   ]
  },
  {
   "cell_type": "code",
   "execution_count": 45,
   "metadata": {},
   "outputs": [
    {
     "data": {
      "image/png": "[encoded data removed]",
      "text/plain": [
       "<Figure size 432x288 with 1 Axes>"
      ]
     },
     "metadata": {
      "needs_background": "light"
     },
     "output_type": "display_data"
    }
   ],
   "source": [
    "# visualizing the distribution of the misclassifications in TFIDF_LR\n",
    "TFIDF_LR_misclassifications = LR_confusionMatrix.sum(axis=1) - np.diag(LR_confusionMatrix)\n",
    "\n",
    "plt.bar(range(1, len(TFIDF_LR_misclassifications) + 1), TFIDF_LR_misclassifications)\n",
    "plt.xlabel('Class')\n",
    "plt.ylabel('Number of Misclassifications')\n",
    "plt.title('Misclassifications by Class in TFIDF_LR')\n",
    "plt.show()"
   ]
  },
  {
   "cell_type": "code",
   "execution_count": 46,
   "metadata": {},
   "outputs": [
    {
     "name": "stdout",
     "output_type": "stream",
     "text": [
      "['business' 'entertainment' 'politics' 'sport' 'tech']\n"
     ]
    }
   ],
   "source": [
    "# double-checking TFIDF_SVM class labels\n",
    "print(LR_model.classes_)"
   ]
  },
  {
   "cell_type": "code",
   "execution_count": 47,
   "metadata": {},
   "outputs": [
    {
     "name": "stdout",
     "output_type": "stream",
     "text": [
      "1. the content of randomly selected news article in BBCtest_data : \n",
      "\n",
      "legendary dutch boss michels dies legendary dutch coach rinus michels  the man credited with developing  total football   has died aged 77.  referred to in the netherlands as  the general   michels led the dutch at the 1974 world cup - when they reached the final only to lose 2-1 to germany. however  he guided his side to the 1988 european championship title with a 2-0 win over the soviet union in the final. michels played for ajax and coached the side to four national titles between 1965-71 and a european cup in 1971. his 1970s dutch team was built around johan cruyff and johan neeskens and introduced the concept of  total football  to the world. the strategy was to foster team coherence and individual imagination - with all players possessing the skills to play in any part of the pitch. cruyff was the on-field organiser of a team whose players rotated in and out of defence at will and was encouraged to play creative attacking football. michels had recently undergone heart surgery and dutch football federation (knvb) spokesman frank huizinga said:  he was one of the best coaches we had in history.  the no-nonsense coach also enjoyed spells at barcelona  who he took to a spanish title in 1974  fc cologne and bayer leverkusen. michels  named coach of the century by world football s governing body fifa in 1999  also won five caps for the netherlands as a bruising centre forward. dutch sports minister clemence ross-van dorp said:  he was the man who  together with cruyff  made dutch football big. \n",
      "\n",
      "2. the predicted category using TFIDF_LR for the article: \n",
      "\n",
      "sport\n"
     ]
    }
   ],
   "source": [
    "## qualitative evaluation metrics, sample 1\n",
    "# inspecting the content of a random news article in 'Text' in BBCtest_data\n",
    "# and see if it does match its predicted categories 'LRtest_PredictedCategory'\n",
    "import random\n",
    "random.seed(10)\n",
    "random_index = random.choice(BBCtest_data.index)\n",
    "\n",
    "print(\"1. the content of randomly selected news article in BBCtest_data :\", \"\\n\")\n",
    "print(BBCtest_data.loc[random_index, 'Text'], \"\\n\")\n",
    "\n",
    "\n",
    "print(\"2. the predicted category using TFIDF_LR for the article:\", \"\\n\")\n",
    "print(BBCtest_data.loc[random_index, 'LRtest_PredictedCategory'])"
   ]
  },
  {
   "cell_type": "code",
   "execution_count": 48,
   "metadata": {},
   "outputs": [
    {
     "name": "stdout",
     "output_type": "stream",
     "text": [
      "1. the content of randomly selected news article in BBCtest_data : \n",
      "\n",
      "itunes user sues apple over ipod a user of apple s itunes music service is suing the firm saying it is unfair he can only use an ipod to play songs.  he says apple is breaking anti-competition laws in refusing to let other music players work with the site. apple  which opened its online store in 2003 after launching the ipod in 2001  uses technology to ensure each song bought only plays on the ipod. californian thomas slattery filed the suit in the us district court in san jose and is seeking damages.   apple has turned an open and interactive standard into an artifice that prevents consumers from using the portable hard drive digital music player of their choice   the lawsuit states. the key to such a lawsuit would be convincing a court that a single brand like itunes is a market in itself separate from the rest of the online music market  according to ernest gellhorn  an anti-trust law professor at george mason university.  as a practical matter  the lower courts have been highly sceptical of such claims   prof gellhorn said. apple has sold more than six million ipods since the gadget was launched and has an 87% share of the market for portable digital music players  market research firm npd group has reported.  more than 200 million songs have been sold by the itunes music store since it was launched.  apple has unlawfully bundled  tied  and/or leveraged its monopoly in the market for the sale of legal online digital music recordings to thwart competition in the separate market for portable hard drive digital music players  and vice-versa   the lawsuit said. mr slattery called himself an itunes customer who  was also forced to purchase an apple ipod  if he wanted to take his music with him to listen to. a spokesman for apple declined to comment. apple s online music store uses a different format for songs than napster  musicmatch  realplayer and others. the rivals use the mp3 format or microsoft s wma format while apple uses aac  which it says helps thwart piracy. the wma format also includes so-called digital rights management which is used to block piracy. \n",
      "\n",
      "2. the predicted category using TFIDF_LR for the article: \n",
      "\n",
      "tech\n"
     ]
    }
   ],
   "source": [
    "## qualitative evaluation metrics, sample 2\n",
    "# inspecting the content of a random news article in 'Text' in BBCtest_data\n",
    "# and see if it does match its predicted categories 'LRtest_PredictedCategory'\n",
    "import random\n",
    "random.seed(17)\n",
    "random_index = random.choice(BBCtest_data.index)\n",
    "\n",
    "print(\"1. the content of randomly selected news article in BBCtest_data :\", \"\\n\")\n",
    "print(BBCtest_data.loc[random_index, 'Text'], \"\\n\")\n",
    "\n",
    "\n",
    "print(\"2. the predicted category using TFIDF_LR for the article:\", \"\\n\")\n",
    "print(BBCtest_data.loc[random_index, 'LRtest_PredictedCategory'])"
   ]
  },
  {
   "cell_type": "markdown",
   "metadata": {},
   "source": [
    "##### Comparison of the Unsupervised and Supervised Approaches: Hybrid Model TFIDF_NMF_LR vs. TFIDF_LR\n",
    "1. Quantitative evaluation: TFIDF_NMF_LR has a precision, recall, and F1 score in the range 0.83 to 0.99, and an overall accuracy of 0.9134. TFIDF_LR has a precision, recall, and F1 score in the range 0.99 to 1.0, and an overall accuracy of 0.9973.\n",
    "\n",
    "2. Qualitative evaluation: The random texts predicted through TFIDF_NMF_LR and TFIDF_LR are labeled as category 'politics,' 'entertainment,' 'sport,' and 'tech,' respectively. By reading the texts using human eyes, I found that there is a perfect match between their predicted category labels and their content.\n",
    "\n",
    "Therefore, in terms of prediction power, the hybrid model TFIDF_LR, using a purely supervised approach, performs better than the hybrid model TFIDF_NMF_LR with the unsupervised dimension reduction approach NMF. Surprisingly, the simpler, the better."
   ]
  },
  {
   "cell_type": "markdown",
   "metadata": {},
   "source": [
    "### 7. Discussion and Conclusion\n",
    "<a id='7-discussion-and-conclusion'></a>\n",
    "Conclusion:\n",
    "1. I have completed the category prediction task described in section 1. Please refer to sections 4 and 5 for examples.\n",
    "\n",
    "2. I found out that actually the hybrid model TFIDF_LR, using a purely supervised approach, performs better than the hybrid model TFIDF_NMF_LR with the unsupervised dimension reduction approach NMF.\n",
    "\n",
    "Discussion/Limitations:\n",
    "1. Could the very high overall accuracy and scores of the two models indicate an issue of overfitting? <br> Since the texts much longer and much shorter than average are published news article, they should not contain repetitive or irrelevant information, and thus should not be removed as outliers. Please kindly point out if my reasoning is incorrect, and if there is any aspect that I have ignored which causes overfitting. <br>\n",
    "2. Limited computer resource and a long run time: \n",
    "<br> To deal with this issue, I cherry picked and tuned the most common hyperparmeters for the hybrid modles. Even though the performace of the models are pretty good, please kindly advice me with advanced techniques to overcome computer resource problem, shorten model run time, and at the same time tune more hyperparamters.<br>\n",
    "\n",
    "This is my very first machine learning project using an unsupervised approach, as well as using nlp techniques. Your suggestions for improvements are more than welcome!"
   ]
  },
  {
   "cell_type": "markdown",
   "metadata": {},
   "source": [
    "### 8. References\n",
    "<a id='8-references'></a>\n",
    "Bijoy Bose. (2019). BBC News Classification. Kaggle. https://kaggle.com/competitions/learn-ai-bbc <br>\n",
    "Sentdex. (2015). NLTK with Python 3 for Natural Language Processing. Youtube. https://www.youtube.com/playlist?list=PLQVvvaa0QuDf2JswnfiGkliBInZnIC4HL"
   ]
  }
 ],
 "metadata": {
  "kernelspec": {
   "display_name": "Python 3",
   "language": "python",
   "name": "python3"
  },
  "language_info": {
   "codemirror_mode": {
    "name": "ipython",
    "version": 3
   },
   "file_extension": ".py",
   "mimetype": "text/x-python",
   "name": "python",
   "nbconvert_exporter": "python",
   "pygments_lexer": "ipython3",
   "version": "3.7.6"
  }
 },
 "nbformat": 4,
 "nbformat_minor": 4
}
